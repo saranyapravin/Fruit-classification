{
 "cells": [
  {
   "cell_type": "code",
   "execution_count": 1,
   "metadata": {},
   "outputs": [
    {
     "name": "stderr",
     "output_type": "stream",
     "text": [
      "c:\\users\\sun tex\\appdata\\local\\programs\\python\\python35\\lib\\importlib\\_bootstrap.py:222: RuntimeWarning: numpy.dtype size changed, may indicate binary incompatibility. Expected 96, got 88\n",
      "  return f(*args, **kwds)\n",
      "Using TensorFlow backend.\n"
     ]
    }
   ],
   "source": [
    "import keras\n",
    "from keras.models import Model\n",
    "from keras.models import Sequential\n",
    "from keras.layers import Input, Dense, Dropout\n",
    "from keras.layers import Reshape, Flatten\n",
    "from keras.layers import Conv2D, MaxPooling2D\n",
    "from keras.utils import to_categorical\n",
    "import numpy as np\n",
    "from PIL import Image\n",
    "import os\n",
    "from matplotlib import pyplot as plt\n",
    "\n",
    "%matplotlib inline\n",
    "import cv2"
   ]
  },
  {
   "cell_type": "code",
   "execution_count": 3,
   "metadata": {},
   "outputs": [],
   "source": [
    "def training_image_data():\n",
    "    train_images=[]\n",
    "    PATH = 'D:\\\\SARANYA-PhD\\\\Dataset\\\\Training_set'\n",
    "    # for each folder (holding a different set of fruits)\n",
    "    for directory in os.listdir(PATH):\n",
    "        # for each image in the folder\n",
    "        DATA_PATH=PATH + '\\\\' + directory\n",
    "        for image in os.listdir(DATA_PATH):\n",
    "            img = cv2.imread(os.path.join(DATA_PATH,image))  # convert to array\n",
    "            img=cv2.cvtColor(img,cv2.COLOR_BGR2RGB)\n",
    "            dim=(64,64)\n",
    "            new_array=cv2.resize(img, dim, interpolation = cv2.INTER_AREA)\n",
    "            new_array=np.array(new_array)\n",
    "            #print(len(new_array))\n",
    "            if directory==\"Apple\":\n",
    "                ohl=np.array([1,0,0,0,0,0,0,0])\n",
    "            elif directory==\"Apple2\":\n",
    "                ohl=np.array([0,1,0,0,0,0,0,0])\n",
    "            elif directory==\"Apple3\":\n",
    "                ohl=np.array([0,0,1,0,0,0,0,0])\n",
    "            elif directory==\"Apple4\":\n",
    "                ohl=np.array([0,0,0,1,0,0,0,0])\n",
    "            elif directory==\"Apple5\":\n",
    "                ohl=np.array([0,0,0,0,1,0,0,0])\n",
    "            elif directory==\"Banana\":\n",
    "                ohl=np.array([0,0,0,0,0,1,0,0])\n",
    "            elif directory==\"Orange\":\n",
    "                ohl=np.array([0,0,0,0,0,0,1,0])\n",
    "            elif directory==\"Pomegranate\":\n",
    "                ohl=np.array([0,0,0,0,0,0,0,1])\n",
    "            train_images.append([new_array,ohl])\n",
    "        \n",
    "    print(len(train_images))\n",
    "    return(train_images)    \n",
    "        "
   ]
  },
  {
   "cell_type": "code",
   "execution_count": 4,
   "metadata": {},
   "outputs": [],
   "source": [
    "def testing_image_data():\n",
    "    test_images=[]\n",
    "    PATH = 'D:\\\\SARANYA-PhD\\\\Dataset\\\\Testing_set'\n",
    "    # for each folder (holding a different set of fruits)\n",
    "    for directory in os.listdir(PATH):\n",
    "        # for each image in the folder\n",
    "        DATA_PATH=PATH + '\\\\' + directory\n",
    "        for image in os.listdir(DATA_PATH):\n",
    "            img = cv2.imread(os.path.join(DATA_PATH,image))  # convert to array\n",
    "            img = cv2.cvtColor(img,cv2.COLOR_BGR2RGB)\n",
    "            dim=(64,64)\n",
    "            new_array=cv2.resize(img, dim, interpolation = cv2.INTER_AREA)\n",
    "            new_array=np.array(new_array)\n",
    "            #print(len(new_array))\n",
    "            if directory==\"Apple\":\n",
    "                ohl=np.array([1,0,0,0,0,0,0,0])\n",
    "            elif directory==\"Apple2\":\n",
    "                ohl=np.array([0,1,0,0,0,0,0,0])\n",
    "            elif directory==\"Apple3\":\n",
    "                ohl=np.array([0,0,1,0,0,0,0,0])\n",
    "            elif directory==\"Apple4\":\n",
    "                ohl=np.array([0,0,0,1,0,0,0,0])\n",
    "            elif directory==\"Apple5\":\n",
    "                ohl=np.array([0,0,0,0,1,0,0,0])\n",
    "            elif directory==\"Banana\":\n",
    "                ohl=np.array([0,0,0,0,0,1,0,0])\n",
    "            elif directory==\"Orange\":\n",
    "                ohl=np.array([0,0,0,0,0,0,1,0])\n",
    "            elif directory==\"Pomegranate\":\n",
    "                ohl=np.array([0,0,0,0,0,0,0,1])\n",
    "            test_images.append([new_array,ohl])\n",
    "        \n",
    "    print(len(test_images))\n",
    "    return(test_images)    "
   ]
  },
  {
   "cell_type": "code",
   "execution_count": 12,
   "metadata": {},
   "outputs": [
    {
     "name": "stdout",
     "output_type": "stream",
     "text": [
      "3610\n",
      "1226\n"
     ]
    }
   ],
   "source": [
    "training_images = training_image_data()\n",
    "testing_images = testing_image_data()\n",
    "\n",
    "tr_img_data = np.array([i[0] for i in training_images]).reshape(-1,64,64,3)\n",
    "tr_lbl_data = np.array([i[1] for i in training_images])\n",
    "\n",
    "tst_img_data = np.array([i[0] for i in testing_images]).reshape(-1,64,64,3)\n",
    "tst_lbl_data = np.array([i[1] for i in testing_images])"
   ]
  },
  {
   "cell_type": "code",
   "execution_count": null,
   "metadata": {},
   "outputs": [],
   "source": []
  },
  {
   "cell_type": "code",
   "execution_count": 15,
   "metadata": {},
   "outputs": [
    {
     "name": "stdout",
     "output_type": "stream",
     "text": [
      "_________________________________________________________________\n",
      "Layer (type)                 Output Shape              Param #   \n",
      "=================================================================\n",
      "conv2d_7 (Conv2D)            (None, 62, 62, 64)        1792      \n",
      "_________________________________________________________________\n",
      "max_pooling2d_7 (MaxPooling2 (None, 31, 31, 64)        0         \n",
      "_________________________________________________________________\n",
      "conv2d_8 (Conv2D)            (None, 29, 29, 32)        18464     \n",
      "_________________________________________________________________\n",
      "max_pooling2d_8 (MaxPooling2 (None, 14, 14, 32)        0         \n",
      "_________________________________________________________________\n",
      "dropout_7 (Dropout)          (None, 14, 14, 32)        0         \n",
      "_________________________________________________________________\n",
      "flatten_4 (Flatten)          (None, 6272)              0         \n",
      "_________________________________________________________________\n",
      "dense_7 (Dense)              (None, 32)                200736    \n",
      "_________________________________________________________________\n",
      "dropout_8 (Dropout)          (None, 32)                0         \n",
      "_________________________________________________________________\n",
      "dense_8 (Dense)              (None, 8)                 264       \n",
      "=================================================================\n",
      "Total params: 221,256\n",
      "Trainable params: 221,256\n",
      "Non-trainable params: 0\n",
      "_________________________________________________________________\n"
     ]
    }
   ],
   "source": [
    "model = Sequential()\n",
    "model.add(Conv2D(64, kernel_size=(3, 3), activation='relu', input_shape=[64,64,3]))\n",
    "model.add(MaxPooling2D(pool_size=(2, 2)))\n",
    "model.add(Conv2D(32, (3, 3), activation='relu'))\n",
    "model.add(MaxPooling2D(pool_size=(2, 2)))\n",
    "model.add(Dropout(0.25))\n",
    "model.add(Flatten())\n",
    "model.add(Dense(32, activation='relu'))\n",
    "model.add(Dropout(0.5))\n",
    "model.add(Dense(8, activation='softmax'))\n",
    "model.summary()"
   ]
  },
  {
   "cell_type": "code",
   "execution_count": 16,
   "metadata": {},
   "outputs": [
    {
     "name": "stdout",
     "output_type": "stream",
     "text": [
      "Train on 3610 samples, validate on 1226 samples\n",
      "Epoch 1/5\n",
      "3610/3610 [==============================] - 173s - loss: 13.4986 - acc: 0.1349 - val_loss: 12.2153 - val_acc: 0.1411\n",
      "Epoch 2/5\n",
      "3610/3610 [==============================] - 243s - loss: 4.4643 - acc: 0.1529 - val_loss: 2.0772 - val_acc: 0.1338\n",
      "Epoch 3/5\n",
      "3610/3610 [==============================] - 380s - loss: 2.0887 - acc: 0.1349 - val_loss: 2.0749 - val_acc: 0.1338\n",
      "Epoch 4/5\n",
      "3610/3610 [==============================] - 491s - loss: 2.0767 - acc: 0.1366 - val_loss: 2.0731 - val_acc: 0.1338\n",
      "Epoch 5/5\n",
      "3610/3610 [==============================] - 837s - loss: 2.0786 - acc: 0.1238 - val_loss: 2.0717 - val_acc: 0.1338\n"
     ]
    },
    {
     "data": {
      "text/plain": [
       "<keras.callbacks.History at 0x14b54cf8>"
      ]
     },
     "execution_count": 16,
     "metadata": {},
     "output_type": "execute_result"
    }
   ],
   "source": [
    "model.compile(loss=keras.losses.categorical_crossentropy,\n",
    "              optimizer=keras.optimizers.Adadelta(),\n",
    "              metrics=['accuracy'])\n",
    "\n",
    "model.fit(tr_img_data, tr_lbl_data,\n",
    "          batch_size=128,\n",
    "          epochs=5,\n",
    "          verbose=1,\n",
    "          validation_data=(tst_img_data, tst_lbl_data))"
   ]
  },
  {
   "cell_type": "code",
   "execution_count": 17,
   "metadata": {},
   "outputs": [
    {
     "name": "stdout",
     "output_type": "stream",
     "text": [
      "Test loss: 2.071266007225269\n",
      "Test accuracy: 0.1362880886426593\n"
     ]
    }
   ],
   "source": [
    "score = model.evaluate(tr_img_data, tr_lbl_data, verbose=0)\n",
    "print('Test loss:', score[0])\n",
    "print('Test accuracy:', score[1])\n",
    "        \n"
   ]
  },
  {
   "cell_type": "code",
   "execution_count": 50,
   "metadata": {},
   "outputs": [
    {
     "data": {
      "image/png": "[encoded data removed]",
      "text/plain": [
       "<matplotlib.figure.Figure at 0x196b08d0>"
      ]
     },
     "metadata": {},
     "output_type": "display_data"
    }
   ],
   "source": [
    "import pylab as plt\n",
    "plt.imshow(tst_img_data[122].reshape(64,64))\n",
    "plt.show()\n",
    "\n"
   ]
  },
  {
   "cell_type": "code",
   "execution_count": null,
   "metadata": {},
   "outputs": [],
   "source": [
    "import numpy as np\n",
    "prediction = model.predict(x_test[122:123])\n",
    "print('Prediction Score:\\n',prediction[0])\n",
    "thresholded = (prediction>0.5)*1\n",
    "print('\\nThresholded Score:\\n',thresholded[0])\n",
    "print('\\nPredicted Digit:\\n',np.where(thresholded == 1)[1][0])"
   ]
  }
 ],
 "metadata": {
  "kernelspec": {
   "display_name": "Python 3",
   "language": "python",
   "name": "python3"
  },
  "language_info": {
   "codemirror_mode": {
    "name": "ipython",
    "version": 3
   },
   "file_extension": ".py",
   "mimetype": "text/x-python",
   "name": "python",
   "nbconvert_exporter": "python",
   "pygments_lexer": "ipython3",
   "version": "3.5.4"
  }
 },
 "nbformat": 4,
 "nbformat_minor": 2
}
