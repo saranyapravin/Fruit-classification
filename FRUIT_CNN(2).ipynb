{
 "cells": [
  {
   "cell_type": "code",
   "execution_count": 2,
   "metadata": {},
   "outputs": [
    {
     "name": "stderr",
     "output_type": "stream",
     "text": [
      "c:\\users\\sun tex\\appdata\\local\\programs\\python\\python35\\lib\\importlib\\_bootstrap.py:222: RuntimeWarning: numpy.dtype size changed, may indicate binary incompatibility. Expected 96, got 88\n",
      "  return f(*args, **kwds)\n",
      "Using TensorFlow backend.\n"
     ]
    }
   ],
   "source": [
    "import keras\n",
    "from keras.models import Model\n",
    "from keras.models import Sequential\n",
    "from keras.layers import Input, Dense, Dropout\n",
    "from keras.layers import Reshape, Flatten\n",
    "from keras.layers import Conv2D, MaxPooling2D\n",
    "from keras.utils import to_categorical\n",
    "import numpy as np\n",
    "from PIL import Image\n",
    "import os\n",
    "from matplotlib import pyplot as plt\n",
    "\n",
    "%matplotlib inline\n",
    "import cv2"
   ]
  },
  {
   "cell_type": "code",
   "execution_count": 3,
   "metadata": {},
   "outputs": [],
   "source": [
    "def training_image_data():\n",
    "    train_images=[]\n",
    "    PATH = 'D:\\\\SARANYA-PhD\\\\Dataset\\\\Training_set'\n",
    "    # for each folder (holding a different set of fruits)\n",
    "    for directory in os.listdir(PATH):\n",
    "        # for each image in the folder\n",
    "        DATA_PATH=PATH + '\\\\' + directory\n",
    "        for image in os.listdir(DATA_PATH):\n",
    "            img = cv2.imread(os.path.join(DATA_PATH,image))  # convert to array\n",
    "            img=cv2.cvtColor(img,cv2.COLOR_BGR2RGB)\n",
    "            dim=(64,64)\n",
    "            new_array=cv2.resize(img, dim, interpolation = cv2.INTER_AREA)\n",
    "            new_array=np.array(new_array)\n",
    "            #print(len(new_array))\n",
    "            if directory==\"Apple\":\n",
    "                ohl=np.array([1,0,0,0,0,0,0,0])\n",
    "            elif directory==\"Apple2\":\n",
    "                ohl=np.array([0,1,0,0,0,0,0,0])\n",
    "            elif directory==\"Apple3\":\n",
    "                ohl=np.array([0,0,1,0,0,0,0,0])\n",
    "            elif directory==\"Apple4\":\n",
    "                ohl=np.array([0,0,0,1,0,0,0,0])\n",
    "            elif directory==\"Apple5\":\n",
    "                ohl=np.array([0,0,0,0,1,0,0,0])\n",
    "            elif directory==\"Banana\":\n",
    "                ohl=np.array([0,0,0,0,0,1,0,0])\n",
    "            elif directory==\"Orange\":\n",
    "                ohl=np.array([0,0,0,0,0,0,1,0])\n",
    "            elif directory==\"Pomegranate\":\n",
    "                ohl=np.array([0,0,0,0,0,0,0,1])\n",
    "            train_images.append([new_array,ohl])\n",
    "        \n",
    "    print(len(train_images))\n",
    "    return(train_images)    \n",
    "        "
   ]
  },
  {
   "cell_type": "code",
   "execution_count": 4,
   "metadata": {},
   "outputs": [],
   "source": [
    "def testing_image_data():\n",
    "    test_images=[]\n",
    "    PATH = 'D:\\\\SARANYA-PhD\\\\Dataset\\\\Testing_set'\n",
    "    # for each folder (holding a different set of fruits)\n",
    "    for directory in os.listdir(PATH):\n",
    "        # for each image in the folder\n",
    "        DATA_PATH=PATH + '\\\\' + directory\n",
    "        for image in os.listdir(DATA_PATH):\n",
    "            img = cv2.imread(os.path.join(DATA_PATH,image))  # convert to array\n",
    "            img = cv2.cvtColor(img,cv2.COLOR_BGR2RGB)\n",
    "            dim=(64,64)\n",
    "            new_array=cv2.resize(img, dim, interpolation = cv2.INTER_AREA)\n",
    "            new_array=np.array(new_array)\n",
    "            #print(len(new_array))\n",
    "            if directory==\"Apple\":\n",
    "                ohl=np.array([1,0,0,0,0,0,0,0])\n",
    "            elif directory==\"Apple2\":\n",
    "                ohl=np.array([0,1,0,0,0,0,0,0])\n",
    "            elif directory==\"Apple3\":\n",
    "                ohl=np.array([0,0,1,0,0,0,0,0])\n",
    "            elif directory==\"Apple4\":\n",
    "                ohl=np.array([0,0,0,1,0,0,0,0])\n",
    "            elif directory==\"Apple5\":\n",
    "                ohl=np.array([0,0,0,0,1,0,0,0])\n",
    "            elif directory==\"Banana\":\n",
    "                ohl=np.array([0,0,0,0,0,1,0,0])\n",
    "            elif directory==\"Orange\":\n",
    "                ohl=np.array([0,0,0,0,0,0,1,0])\n",
    "            elif directory==\"Pomegranate\":\n",
    "                ohl=np.array([0,0,0,0,0,0,0,1])\n",
    "            test_images.append([new_array,ohl])\n",
    "        \n",
    "    print(len(test_images))\n",
    "    return(test_images)    "
   ]
  },
  {
   "cell_type": "code",
   "execution_count": 5,
   "metadata": {},
   "outputs": [
    {
     "name": "stdout",
     "output_type": "stream",
     "text": [
      "3610\n",
      "1226\n"
     ]
    }
   ],
   "source": [
    "training_images = training_image_data()\n",
    "testing_images = testing_image_data()\n",
    "\n",
    "tr_img_data = np.array([i[0] for i in training_images]).reshape(-1,64,64,3)\n",
    "tr_lbl_data = np.array([i[1] for i in training_images])\n",
    "\n",
    "tst_img_data = np.array([i[0] for i in testing_images]).reshape(-1,64,64,3)\n",
    "tst_lbl_data = np.array([i[1] for i in testing_images])"
   ]
  },
  {
   "cell_type": "code",
   "execution_count": 6,
   "metadata": {},
   "outputs": [],
   "source": [
    "import timeit"
   ]
  },
  {
   "cell_type": "code",
   "execution_count": 31,
   "metadata": {},
   "outputs": [
    {
     "name": "stdout",
     "output_type": "stream",
     "text": [
      "_________________________________________________________________\n",
      "Layer (type)                 Output Shape              Param #   \n",
      "=================================================================\n",
      "conv2d_16 (Conv2D)           (None, 30, 30, 32)        2432      \n",
      "_________________________________________________________________\n",
      "conv2d_17 (Conv2D)           (None, 13, 13, 16)        12816     \n",
      "_________________________________________________________________\n",
      "flatten_8 (Flatten)          (None, 2704)              0         \n",
      "_________________________________________________________________\n",
      "dense_15 (Dense)             (None, 32)                86560     \n",
      "_________________________________________________________________\n",
      "dropout_8 (Dropout)          (None, 32)                0         \n",
      "_________________________________________________________________\n",
      "dense_16 (Dense)             (None, 8)                 264       \n",
      "=================================================================\n",
      "Total params: 102,072\n",
      "Trainable params: 102,072\n",
      "Non-trainable params: 0\n",
      "_________________________________________________________________\n"
     ]
    }
   ],
   "source": [
    " np.random.seed(12)\n",
    "model = Sequential()\n",
    "model.add(Conv2D(32, kernel_size=(5,5), activation='relu',strides=2, input_shape=[64,64,3]))\n",
    "#model.add(MaxPooling2D( strides=(2, 2)))\n",
    "model.add(Conv2D(16, (5, 5),strides=2, activation='relu'))\n",
    "model.add(Flatten())\n",
    "model.add(Dense(32, activation='relu'))\n",
    "model.add(Dropout(0.25))\n",
    "model.add(Dense(8, activation='softmax'))\n",
    "model.summary()\n",
    "#model.compile(loss=keras.losses.categorical_crossentropy, optimizer=keras.optimizers.Adadelta(), metrics=['accuracy'])\n",
    "#model.fit(tr_img_data, tr_lbl_data, batch_size=128, epochs=10, verbose=1, validation_data=(tst_img_data, tst_lbl_data))\n"
   ]
  },
  {
   "cell_type": "code",
   "execution_count": 32,
   "metadata": {},
   "outputs": [
    {
     "name": "stdout",
     "output_type": "stream",
     "text": [
      "Train on 3610 samples, validate on 1226 samples\n",
      "Epoch 1/20\n",
      "3610/3610 [==============================] - 25s - loss: 10.2616 - acc: 0.1665 - val_loss: 10.3222 - val_acc: 0.1378\n",
      "Epoch 2/20\n",
      "3610/3610 [==============================] - 41s - loss: 1.6882 - acc: 0.4255 - val_loss: 0.9144 - val_acc: 0.6925\n",
      "Epoch 3/20\n",
      "3610/3610 [==============================] - 45s - loss: 0.7876 - acc: 0.7105 - val_loss: 0.7742 - val_acc: 0.7121\n",
      "Epoch 4/20\n",
      "3610/3610 [==============================] - 54s - loss: 0.4126 - acc: 0.8573 - val_loss: 0.5069 - val_acc: 0.8777\n",
      "Epoch 5/20\n",
      "3610/3610 [==============================] - 57s - loss: 0.2689 - acc: 0.8981 - val_loss: 0.5321 - val_acc: 0.8385\n",
      "Epoch 6/20\n",
      "3610/3610 [==============================] - 57s - loss: 0.2058 - acc: 0.9241 - val_loss: 0.2487 - val_acc: 0.9372\n",
      "Epoch 7/20\n",
      "3610/3610 [==============================] - 51s - loss: 0.1591 - acc: 0.9413 - val_loss: 0.1740 - val_acc: 0.9674\n",
      "Epoch 8/20\n",
      "3610/3610 [==============================] - 74s - loss: 0.1175 - acc: 0.9573 - val_loss: 0.1704 - val_acc: 0.9657\n",
      "Epoch 9/20\n",
      "3610/3610 [==============================] - 74s - loss: 0.0900 - acc: 0.9665 - val_loss: 0.2383 - val_acc: 0.9429\n",
      "Epoch 10/20\n",
      "3610/3610 [==============================] - 73s - loss: 0.0746 - acc: 0.9717 - val_loss: 0.2274 - val_acc: 0.9339\n",
      "Epoch 11/20\n",
      "3610/3610 [==============================] - 103s - loss: 0.2241 - acc: 0.9410 - val_loss: 0.1915 - val_acc: 0.9560\n",
      "Epoch 12/20\n",
      "3610/3610 [==============================] - 85s - loss: 0.0523 - acc: 0.9809 - val_loss: 0.1747 - val_acc: 0.9625\n",
      "Epoch 13/20\n",
      "3610/3610 [==============================] - 133s - loss: 0.0448 - acc: 0.9820 - val_loss: 0.5636 - val_acc: 0.8564\n",
      "Epoch 14/20\n",
      "3610/3610 [==============================] - 87s - loss: 0.0477 - acc: 0.9845 - val_loss: 0.2074 - val_acc: 0.9543\n",
      "Epoch 15/20\n",
      "3610/3610 [==============================] - 128s - loss: 0.0389 - acc: 0.9859 - val_loss: 0.1969 - val_acc: 0.9519\n",
      "Epoch 16/20\n",
      "3610/3610 [==============================] - 99s - loss: 0.0494 - acc: 0.9820 - val_loss: 0.1928 - val_acc: 0.9625\n",
      "Epoch 17/20\n",
      "3610/3610 [==============================] - 104s - loss: 0.0460 - acc: 0.9845 - val_loss: 0.1934 - val_acc: 0.9527\n",
      "Epoch 18/20\n",
      "3610/3610 [==============================] - 141s - loss: 0.0357 - acc: 0.9881 - val_loss: 0.1900 - val_acc: 0.9576\n",
      "Epoch 19/20\n",
      "3610/3610 [==============================] - 175s - loss: 0.0380 - acc: 0.9873 - val_loss: 0.1511 - val_acc: 0.9755\n",
      "Epoch 20/20\n",
      "3610/3610 [==============================] - 167s - loss: 0.0204 - acc: 0.9925 - val_loss: 0.2472 - val_acc: 0.9649\n",
      "Time Taken to run the model: 1783.1899606198185 seconds\n"
     ]
    }
   ],
   "source": [
    "start = timeit.default_timer()  \n",
    "model.compile(loss=keras.losses.categorical_crossentropy,\n",
    "              optimizer=keras.optimizers.Adadelta(),\n",
    "              metrics=['accuracy'])\n",
    "\n",
    "history=model.fit(tr_img_data, tr_lbl_data,\n",
    "          batch_size=128,\n",
    "          epochs=20,\n",
    "          verbose=1,\n",
    "          validation_data=(tst_img_data, tst_lbl_data))\n",
    "end = timeit.default_timer()\n",
    "print(\"Time Taken to run the model:\",end - start, \"seconds\")  "
   ]
  },
  {
   "cell_type": "code",
   "execution_count": 12,
   "metadata": {},
   "outputs": [
    {
     "name": "stdout",
     "output_type": "stream",
     "text": [
      "3584/3610 [============================>.] - ETA: 0sTest loss: 0.001555902875348199\n",
      "Test accuracy: 0.9997229916897507\n"
     ]
    }
   ],
   "source": [
    "score = model.evaluate(tr_img_data, tr_lbl_data, verbose=1)\n",
    "print('Test loss:', score[0])\n",
    "print('Test accuracy:', score[1])\n",
    "        \n"
   ]
  },
  {
   "cell_type": "code",
   "execution_count": 13,
   "metadata": {},
   "outputs": [
    {
     "data": {
      "image/png": "[encoded data removed]",
      "text/plain": [
       "<matplotlib.figure.Figure at 0x12685550>"
      ]
     },
     "metadata": {},
     "output_type": "display_data"
    }
   ],
   "source": [
    "import pylab as plt\n",
    "plt.imshow(tst_img_data[122].reshape(64,64,3))\n",
    "plt.show()\n",
    "\n"
   ]
  },
  {
   "cell_type": "code",
   "execution_count": 32,
   "metadata": {},
   "outputs": [
    {
     "name": "stdout",
     "output_type": "stream",
     "text": [
      "Prediction Score:\n",
      " [3.6471565e-08 8.2904069e-07 1.8865281e-07 5.3837087e-18 2.7775273e-12\n",
      " 5.5409518e-12 9.9999893e-01 1.3877722e-09]\n",
      "\n",
      "Thresholded Score:\n",
      " [0 0 0 0 0 0 1 0]\n",
      "\n",
      "Predicted Digit:\n",
      " 6\n"
     ]
    }
   ],
   "source": [
    "import numpy as np\n",
    "prediction = model.predict(tst_img_data[1000:1001])\n",
    "print('Prediction Score:\\n',prediction[0])\n",
    "thresholded = (prediction>0.5)*1\n",
    "print('\\nThresholded Score:\\n',thresholded[0])\n",
    "print('\\nPredicted Digit:\\n',np.where(thresholded == 1)[1][0])"
   ]
  },
  {
   "cell_type": "code",
   "execution_count": 33,
   "metadata": {},
   "outputs": [
    {
     "data": {
      "text/plain": [
       "Text(0.5,1,'Accuracy Curves')"
      ]
     },
     "execution_count": 33,
     "metadata": {},
     "output_type": "execute_result"
    },
    {
     "data": {
      "image/png": "[encoded data removed]",
      "text/plain": [
       "<matplotlib.figure.Figure at 0x2718aa90>"
      ]
     },
     "metadata": {},
     "output_type": "display_data"
    }
   ],
   "source": [
    "plt.figure(figsize=[8,6])\n",
    "plt.plot(history.history['acc'],'r',linewidth=2.0)\n",
    "plt.plot(history.history['val_acc'],'b',linewidth=2.0)\n",
    "plt.legend(['Training Accuracy', 'Validation Accuracy'],fontsize=18)\n",
    "plt.xlabel('Epochs ',fontsize=16)\n",
    "plt.ylabel('Accuracy',fontsize=16)\n",
    "plt.title('Accuracy Curves',fontsize=10)"
   ]
  },
  {
   "cell_type": "code",
   "execution_count": null,
   "metadata": {},
   "outputs": [],
   "source": []
  }
 ],
 "metadata": {
  "kernelspec": {
   "display_name": "Python 3",
   "language": "python",
   "name": "python3"
  },
  "language_info": {
   "codemirror_mode": {
    "name": "ipython",
    "version": 3
   },
   "file_extension": ".py",
   "mimetype": "text/x-python",
   "name": "python",
   "nbconvert_exporter": "python",
   "pygments_lexer": "ipython3",
   "version": "3.5.4"
  }
 },
 "nbformat": 4,
 "nbformat_minor": 2
}
